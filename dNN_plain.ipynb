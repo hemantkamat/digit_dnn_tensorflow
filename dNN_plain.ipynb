{
  "nbformat": 4,
  "nbformat_minor": 0,
  "metadata": {
    "colab": {
      "name": "dNN_plain.ipynb",
      "provenance": [],
      "authorship_tag": "ABX9TyN6TBi6rx1f9PPXi+sUqCFc"
    },
    "kernelspec": {
      "name": "python3",
      "display_name": "Python 3"
    }
  },
  "cells": [
    {
      "cell_type": "code",
      "metadata": {
        "id": "EYlYin42Kikd",
        "colab_type": "code",
        "colab": {
          "base_uri": "https://localhost:8080/",
          "height": 63
        },
        "outputId": "6e423551-9918-42ce-e798-78784ed31b45"
      },
      "source": [
        "import tensorflow as tf\n",
        "import matplotlib.pyplot as plt\n",
        "import numpy as np"
      ],
      "execution_count": 1,
      "outputs": [
        {
          "output_type": "display_data",
          "data": {
            "text/html": [
              "<p style=\"color: red;\">\n",
              "The default version of TensorFlow in Colab will soon switch to TensorFlow 2.x.<br>\n",
              "We recommend you <a href=\"https://www.tensorflow.org/guide/migrate\" target=\"_blank\">upgrade</a> now \n",
              "or ensure your notebook will continue to use TensorFlow 1.x via the <code>%tensorflow_version 1.x</code> magic:\n",
              "<a href=\"https://colab.research.google.com/notebooks/tensorflow_version.ipynb\" target=\"_blank\">more info</a>.</p>\n"
            ],
            "text/plain": [
              "<IPython.core.display.HTML object>"
            ]
          },
          "metadata": {
            "tags": []
          }
        }
      ]
    },
    {
      "cell_type": "code",
      "metadata": {
        "id": "b9NEC-r5Aqd3",
        "colab_type": "code",
        "outputId": "f70fb910-a40e-4b84-dfc6-de2b07688f48",
        "colab": {
          "base_uri": "https://localhost:8080/",
          "height": 350
        }
      },
      "source": [
        "from tensorflow.examples.tutorials.mnist import input_data\n",
        "mnist = input_data.read_data_sets(\"tmp/data/\")\n",
        "image = mnist.test.images[4].reshape(28, 28)\n",
        "plt.imshow(image, cmap='gray')"
      ],
      "execution_count": 3,
      "outputs": [
        {
          "output_type": "stream",
          "text": [
            "Extracting tmp/data/train-images-idx3-ubyte.gz\n",
            "Extracting tmp/data/train-labels-idx1-ubyte.gz\n",
            "Extracting tmp/data/t10k-images-idx3-ubyte.gz\n",
            "Extracting tmp/data/t10k-labels-idx1-ubyte.gz\n"
          ],
          "name": "stdout"
        },
        {
          "output_type": "execute_result",
          "data": {
            "text/plain": [
              "<matplotlib.image.AxesImage at 0x7f88d0ad50f0>"
            ]
          },
          "metadata": {
            "tags": []
          },
          "execution_count": 3
        },
        {
          "output_type": "display_data",
          "data": {
            "image/png": "[encoded data removed]",
            "text/plain": [
              "<Figure size 432x288 with 1 Axes>"
            ]
          },
          "metadata": {
            "tags": []
          }
        }
      ]
    },
    {
      "cell_type": "code",
      "metadata": {
        "id": "-bDqOmOLAd5w",
        "colab_type": "code",
        "colab": {}
      },
      "source": [
        "n_inputs = 28*28\n",
        "n_hidden1 = 300\n",
        "n_hidden2 = 100\n",
        "n_outputs = 10"
      ],
      "execution_count": 0,
      "outputs": []
    },
    {
      "cell_type": "code",
      "metadata": {
        "id": "AP4C_uBUSUP6",
        "colab_type": "code",
        "colab": {}
      },
      "source": [
        "X = tf.placeholder(tf.float32, shape=(None, n_inputs), name = \"X\")\n",
        "y = tf.placeholder(tf.int64, shape=(None), name=\"y\")"
      ],
      "execution_count": 0,
      "outputs": []
    },
    {
      "cell_type": "code",
      "metadata": {
        "id": "sxLnfkqTSxYy",
        "colab_type": "code",
        "colab": {}
      },
      "source": [
        "def neuron_layer(X, n_neurons, name,activation=None):\n",
        "  with tf.name_scope(name):\n",
        "    n_inputs = int(X.get_shape()[1])\n",
        "    stddev = 2/ np.sqrt(n_inputs)\n",
        "    init = tf.truncated_normal((n_inputs, n_neurons),stddev=stddev)\n",
        "    W = tf.Variable(init, name=\"weights\")\n",
        "    b = tf.Variable(tf.zeros([n_neurons]), name=\"biases\")\n",
        "    z = tf.matmul(X, W)+b\n",
        "    if activation==\"relu\":\n",
        "      return tf.nn.relu(z)\n",
        "    else:\n",
        "      return z\n",
        "      "
      ],
      "execution_count": 0,
      "outputs": []
    },
    {
      "cell_type": "code",
      "metadata": {
        "id": "ifDQHb3qUtkf",
        "colab_type": "code",
        "colab": {
          "base_uri": "https://localhost:8080/",
          "height": 88
        },
        "outputId": "a5dcc02e-a8a3-4464-ddd6-9e0b38852ca9"
      },
      "source": [
        "from tensorflow.contrib.layers import fully_connected\n",
        "\n",
        "with tf.name_scope(\"dnn\"):\n",
        "  hiddeni1 = fully_connected(X,n_hidden1,scope=\"hiddeni1\")\n",
        "  hiddeni2 = fully_connected(hiddeni1,n_hidden2,scope=\"hiddeni2\")\n",
        "  logits = fully_connected(hiddeni2,n_outputs,scope=\"outputs\",activation_fn=None)"
      ],
      "execution_count": 7,
      "outputs": [
        {
          "output_type": "stream",
          "text": [
            "WARNING:tensorflow:From /usr/local/lib/python3.6/dist-packages/tensorflow_core/contrib/layers/python/layers/layers.py:1866: Layer.apply (from tensorflow.python.keras.engine.base_layer) is deprecated and will be removed in a future version.\n",
            "Instructions for updating:\n",
            "Please use `layer.__call__` method instead.\n"
          ],
          "name": "stdout"
        }
      ]
    },
    {
      "cell_type": "code",
      "metadata": {
        "id": "J5VSBMRdXeAn",
        "colab_type": "code",
        "colab": {}
      },
      "source": [
        "with tf.name_scope(\"loss\"):\n",
        "  xentropy = tf.nn.sparse_softmax_cross_entropy_with_logits(labels=y, logits=logits)\n",
        "  loss = tf.reduce_mean(xentropy, name=\"loss\")"
      ],
      "execution_count": 0,
      "outputs": []
    },
    {
      "cell_type": "code",
      "metadata": {
        "id": "e8_cLx1_Ya4g",
        "colab_type": "code",
        "colab": {}
      },
      "source": [
        "learning_rate = 0.01\n",
        "with tf.name_scope(\"train\"):\n",
        "  optimizer = tf.train.GradientDescentOptimizer(learning_rate)\n",
        "  training_op = optimizer.minimize(loss)"
      ],
      "execution_count": 0,
      "outputs": []
    },
    {
      "cell_type": "code",
      "metadata": {
        "id": "LfO3BbMUY-XB",
        "colab_type": "code",
        "colab": {}
      },
      "source": [
        "with tf.name_scope(\"eval\"):\n",
        "  correct = tf.nn.in_top_k(logits, y ,1)\n",
        "  accuracy = tf.reduce_mean(tf.cast(correct,tf.float32))"
      ],
      "execution_count": 0,
      "outputs": []
    },
    {
      "cell_type": "code",
      "metadata": {
        "id": "6HebPk0LZO0_",
        "colab_type": "code",
        "colab": {}
      },
      "source": [
        "init = tf.global_variables_initializer()\n",
        "saver = tf.train.Saver()"
      ],
      "execution_count": 0,
      "outputs": []
    },
    {
      "cell_type": "code",
      "metadata": {
        "id": "LVAy4tQUZoMU",
        "colab_type": "code",
        "colab": {}
      },
      "source": [
        "n_epochs = 10\n",
        "batch_size = 50"
      ],
      "execution_count": 0,
      "outputs": []
    },
    {
      "cell_type": "code",
      "metadata": {
        "id": "lXMVIeVHZwjJ",
        "colab_type": "code",
        "outputId": "4338aa10-8192-48e7-d45b-5b1317eda543",
        "colab": {
          "base_uri": "https://localhost:8080/",
          "height": 187
        }
      },
      "source": [
        "with tf.Session() as sess:\n",
        "  init.run()\n",
        "  for epoch in range(n_epochs):\n",
        "    for iteration in range(mnist.train.num_examples // batch_size):\n",
        "      X_batch, y_batch = mnist.train.next_batch(batch_size)\n",
        "      sess.run(training_op, feed_dict={X: X_batch, y:y_batch})\n",
        "\n",
        "    acc_train = accuracy.eval(feed_dict={X:X_batch,y:y_batch})\n",
        "    acc_test = accuracy.eval(feed_dict={X: mnist.test.images,y: mnist.test.labels})\n",
        "    print(epoch, \"Training accuracy:\",acc_train,\"Test accuracy:\",acc_test)\n",
        "  save_path = saver.save(sess, \"my_model.ckpt\")"
      ],
      "execution_count": 15,
      "outputs": [
        {
          "output_type": "stream",
          "text": [
            "0 Training accuracy: 0.88 Test accuracy: 0.9035\n",
            "1 Training accuracy: 0.9 Test accuracy: 0.9174\n",
            "2 Training accuracy: 0.94 Test accuracy: 0.9311\n",
            "3 Training accuracy: 1.0 Test accuracy: 0.9367\n",
            "4 Training accuracy: 0.96 Test accuracy: 0.9418\n",
            "5 Training accuracy: 0.94 Test accuracy: 0.9453\n",
            "6 Training accuracy: 0.98 Test accuracy: 0.9496\n",
            "7 Training accuracy: 0.96 Test accuracy: 0.9527\n",
            "8 Training accuracy: 0.98 Test accuracy: 0.9549\n",
            "9 Training accuracy: 1.0 Test accuracy: 0.9597\n"
          ],
          "name": "stdout"
        }
      ]
    },
    {
      "cell_type": "code",
      "metadata": {
        "id": "Hy_9LUb_dbrA",
        "colab_type": "code",
        "outputId": "b23e2fcd-cd66-45d9-cf8c-2e69ad3c9cf3",
        "colab": {
          "base_uri": "https://localhost:8080/",
          "height": 34
        }
      },
      "source": [
        "with tf.Session() as sess:\n",
        "  saver.restore(sess, tf.train.latest_checkpoint('./'))\n",
        "  X_new_scaled = mnist.test.images \n",
        "  Z = logits.eval(feed_dict={X: X_new_scaled})\n",
        "  y_pred = np.argmax(Z, axis=1)"
      ],
      "execution_count": 16,
      "outputs": [
        {
          "output_type": "stream",
          "text": [
            "INFO:tensorflow:Restoring parameters from ./my_model.ckpt\n"
          ],
          "name": "stdout"
        }
      ]
    },
    {
      "cell_type": "code",
      "metadata": {
        "id": "UMurxpFmeUr0",
        "colab_type": "code",
        "outputId": "6a95bddd-1045-411a-9f5f-cbdf544b4f1f",
        "colab": {
          "base_uri": "https://localhost:8080/",
          "height": 34
        }
      },
      "source": [
        "y_pred"
      ],
      "execution_count": 18,
      "outputs": [
        {
          "output_type": "execute_result",
          "data": {
            "text/plain": [
              "array([7, 2, 1, ..., 4, 5, 6])"
            ]
          },
          "metadata": {
            "tags": []
          },
          "execution_count": 18
        }
      ]
    }
  ]
}