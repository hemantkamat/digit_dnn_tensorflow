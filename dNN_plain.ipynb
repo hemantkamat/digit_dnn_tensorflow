{
  "nbformat": 4,
  "nbformat_minor": 0,
  "metadata": {
    "colab": {
      "name": "dNN_plain.ipynb",
      "provenance": [],
      "authorship_tag": "ABX9TyOFX7+QlGkxj7dpb3kWTNIK"
    },
    "kernelspec": {
      "name": "python3",
      "display_name": "Python 3"
    }
  },
  "cells": [
    {
      "cell_type": "code",
      "metadata": {
        "id": "EYlYin42Kikd",
        "colab_type": "code",
        "colab": {}
      },
      "source": [
        "import tensorflow as tf\n",
        "\n",
        "n_inputs = 28*28\n",
        "n_hidden1 = 300\n",
        "n_hidden2 = 100\n",
        "n_outputs = 10"
      ],
      "execution_count": 0,
      "outputs": []
    },
    {
      "cell_type": "code",
      "metadata": {
        "id": "AP4C_uBUSUP6",
        "colab_type": "code",
        "colab": {}
      },
      "source": [
        "X = tf.placeholder(tf.float32, shape=(None, n_inputs), name = \"X\")\n",
        "y = tf.placeholder(tf.int64, shape=(None), name=\"y\")"
      ],
      "execution_count": 0,
      "outputs": []
    },
    {
      "cell_type": "code",
      "metadata": {
        "id": "sxLnfkqTSxYy",
        "colab_type": "code",
        "colab": {}
      },
      "source": [
        "def neuron_layer(X, n_neurons, name,activation=None):\n",
        "  with tf.name_scope(name):\n",
        "    n_inputs = int(X.get_shape()[1])\n",
        "    stddev = 2/ np.sqrt(n_inputs)\n",
        "    init = tf.truncated_normal((n_inputs, n_neurons),stddev=stddev)\n",
        "    W = tf.Variable(init, name=\"weights\")\n",
        "    b = tf.Variable(tf.zeros([n_neurons]), name=\"biases\")\n",
        "    z = tf.matmul(X, W)+b\n",
        "    if activation==\"relu\":\n",
        "      return tf.nn.relu(z)\n",
        "    else:\n",
        "      return z\n",
        "      "
      ],
      "execution_count": 0,
      "outputs": []
    },
    {
      "cell_type": "code",
      "metadata": {
        "id": "ifDQHb3qUtkf",
        "colab_type": "code",
        "colab": {}
      },
      "source": [
        "from tensorflow.contrib.layers import fully_connected\n",
        "\n",
        "with tf.name_scope(\"dnn\"):\n",
        "  hiddeni1 = fully_connected(X,n_hidden1,scope=\"hiddeni1\")\n",
        "  hiddeni2 = fully_connected(hiddeni1,n_hidden2,scope=\"hiddeni2\")\n",
        "  logits = fully_connected(hiddeni2,n_outputs,scope=\"outputs\",activation_fn=None)"
      ],
      "execution_count": 0,
      "outputs": []
    },
    {
      "cell_type": "code",
      "metadata": {
        "id": "J5VSBMRdXeAn",
        "colab_type": "code",
        "colab": {}
      },
      "source": [
        "with tf.name_scope(\"loss\"):\n",
        "  xentropy = tf.nn.sparse_softmax_cross_entropy_with_logits(labels=y, logits=logits)\n",
        "  loss = tf.reduce_mean(xentropy, name=\"loss\")"
      ],
      "execution_count": 0,
      "outputs": []
    },
    {
      "cell_type": "code",
      "metadata": {
        "id": "e8_cLx1_Ya4g",
        "colab_type": "code",
        "colab": {}
      },
      "source": [
        "learning_rate = 0.01\n",
        "with tf.name_scope(\"train\"):\n",
        "  optimizer = tf.train.GradientDescentOptimizer(learning_rate)\n",
        "  training_op = optimizer.minimize(loss)"
      ],
      "execution_count": 0,
      "outputs": []
    },
    {
      "cell_type": "code",
      "metadata": {
        "id": "LfO3BbMUY-XB",
        "colab_type": "code",
        "colab": {}
      },
      "source": [
        "with tf.name_scope(\"eval\"):\n",
        "  correct = tf.nn.in_top_k(logits, y ,1)\n",
        "  accuracy = tf.reduce_mean(tf.cast(correct,tf.float32))"
      ],
      "execution_count": 0,
      "outputs": []
    },
    {
      "cell_type": "code",
      "metadata": {
        "id": "6HebPk0LZO0_",
        "colab_type": "code",
        "colab": {}
      },
      "source": [
        "init = tf.global_variables_initializer()\n",
        "saver = tf.train.Saver()"
      ],
      "execution_count": 0,
      "outputs": []
    },
    {
      "cell_type": "code",
      "metadata": {
        "id": "I4_sBHrKZWcQ",
        "colab_type": "code",
        "outputId": "b8ada462-7b9a-4bbe-ac59-001bdb2750dd",
        "colab": {
          "base_uri": "https://localhost:8080/",
          "height": 479
        }
      },
      "source": [
        "from tensorflow.examples.tutorials.mnist import input_data\n",
        "\n",
        "mnist = input_data.read_data_sets(\"tmp/data/\")"
      ],
      "execution_count": 0,
      "outputs": [
        {
          "output_type": "stream",
          "text": [
            "WARNING:tensorflow:From <ipython-input-18-27e0281541e6>:3: read_data_sets (from tensorflow.contrib.learn.python.learn.datasets.mnist) is deprecated and will be removed in a future version.\n",
            "Instructions for updating:\n",
            "Please use alternatives such as official/mnist/dataset.py from tensorflow/models.\n",
            "WARNING:tensorflow:From /usr/local/lib/python3.6/dist-packages/tensorflow_core/contrib/learn/python/learn/datasets/mnist.py:260: maybe_download (from tensorflow.contrib.learn.python.learn.datasets.base) is deprecated and will be removed in a future version.\n",
            "Instructions for updating:\n",
            "Please write your own downloading logic.\n",
            "WARNING:tensorflow:From /usr/local/lib/python3.6/dist-packages/tensorflow_core/contrib/learn/python/learn/datasets/base.py:252: _internal_retry.<locals>.wrap.<locals>.wrapped_fn (from tensorflow.contrib.learn.python.learn.datasets.base) is deprecated and will be removed in a future version.\n",
            "Instructions for updating:\n",
            "Please use urllib or similar directly.\n",
            "Successfully downloaded train-images-idx3-ubyte.gz 9912422 bytes.\n",
            "WARNING:tensorflow:From /usr/local/lib/python3.6/dist-packages/tensorflow_core/contrib/learn/python/learn/datasets/mnist.py:262: extract_images (from tensorflow.contrib.learn.python.learn.datasets.mnist) is deprecated and will be removed in a future version.\n",
            "Instructions for updating:\n",
            "Please use tf.data to implement this functionality.\n",
            "Extracting tmp/data/train-images-idx3-ubyte.gz\n",
            "Successfully downloaded train-labels-idx1-ubyte.gz 28881 bytes.\n",
            "WARNING:tensorflow:From /usr/local/lib/python3.6/dist-packages/tensorflow_core/contrib/learn/python/learn/datasets/mnist.py:267: extract_labels (from tensorflow.contrib.learn.python.learn.datasets.mnist) is deprecated and will be removed in a future version.\n",
            "Instructions for updating:\n",
            "Please use tf.data to implement this functionality.\n",
            "Extracting tmp/data/train-labels-idx1-ubyte.gz\n",
            "Successfully downloaded t10k-images-idx3-ubyte.gz 1648877 bytes.\n",
            "Extracting tmp/data/t10k-images-idx3-ubyte.gz\n",
            "Successfully downloaded t10k-labels-idx1-ubyte.gz 4542 bytes.\n",
            "Extracting tmp/data/t10k-labels-idx1-ubyte.gz\n",
            "WARNING:tensorflow:From /usr/local/lib/python3.6/dist-packages/tensorflow_core/contrib/learn/python/learn/datasets/mnist.py:290: DataSet.__init__ (from tensorflow.contrib.learn.python.learn.datasets.mnist) is deprecated and will be removed in a future version.\n",
            "Instructions for updating:\n",
            "Please use alternatives such as official/mnist/dataset.py from tensorflow/models.\n"
          ],
          "name": "stdout"
        }
      ]
    },
    {
      "cell_type": "code",
      "metadata": {
        "id": "LVAy4tQUZoMU",
        "colab_type": "code",
        "colab": {}
      },
      "source": [
        "n_epochs = 50\n",
        "batch_size = 50"
      ],
      "execution_count": 0,
      "outputs": []
    },
    {
      "cell_type": "code",
      "metadata": {
        "id": "lXMVIeVHZwjJ",
        "colab_type": "code",
        "outputId": "10cfeedc-c05e-4ec6-ca48-6ebae2d15b80",
        "colab": {
          "base_uri": "https://localhost:8080/",
          "height": 867
        }
      },
      "source": [
        "with tf.Session() as sess:\n",
        "  init.run()\n",
        "  for epoch in range(n_epochs):\n",
        "    for iteration in range(mnist.train.num_examples // batch_size):\n",
        "      X_batch, y_batch = mnist.train.next_batch(batch_size)\n",
        "      sess.run(training_op, feed_dict={X: X_batch, y:y_batch})\n",
        "\n",
        "    acc_train = accuracy.eval(feed_dict={X:X_batch,y:y_batch})\n",
        "    acc_test = accuracy.eval(feed_dict={X: mnist.test.images,y: mnist.test.labels})\n",
        "    print(epoch, \"Training accuracy:\",acc_train,\"Test accuracy:\",acc_test)\n",
        "  save_path = saver.save(sess, \"my_model.ckpt\")"
      ],
      "execution_count": 0,
      "outputs": [
        {
          "output_type": "stream",
          "text": [
            "0 Training accuracy: 0.88 Test accuracy: 0.9009\n",
            "1 Training accuracy: 1.0 Test accuracy: 0.9181\n",
            "2 Training accuracy: 0.98 Test accuracy: 0.9267\n",
            "3 Training accuracy: 0.98 Test accuracy: 0.9331\n",
            "4 Training accuracy: 0.94 Test accuracy: 0.9386\n",
            "5 Training accuracy: 0.98 Test accuracy: 0.9417\n",
            "6 Training accuracy: 0.98 Test accuracy: 0.9487\n",
            "7 Training accuracy: 0.94 Test accuracy: 0.9519\n",
            "8 Training accuracy: 1.0 Test accuracy: 0.955\n",
            "9 Training accuracy: 0.96 Test accuracy: 0.9569\n",
            "10 Training accuracy: 1.0 Test accuracy: 0.9592\n",
            "11 Training accuracy: 1.0 Test accuracy: 0.9614\n",
            "12 Training accuracy: 1.0 Test accuracy: 0.9623\n",
            "13 Training accuracy: 0.98 Test accuracy: 0.965\n",
            "14 Training accuracy: 0.94 Test accuracy: 0.9657\n",
            "15 Training accuracy: 1.0 Test accuracy: 0.9673\n",
            "16 Training accuracy: 0.98 Test accuracy: 0.9688\n",
            "17 Training accuracy: 0.96 Test accuracy: 0.9687\n",
            "18 Training accuracy: 0.96 Test accuracy: 0.9697\n",
            "19 Training accuracy: 1.0 Test accuracy: 0.9719\n",
            "20 Training accuracy: 1.0 Test accuracy: 0.9716\n",
            "21 Training accuracy: 0.92 Test accuracy: 0.9714\n",
            "22 Training accuracy: 0.98 Test accuracy: 0.9728\n",
            "23 Training accuracy: 0.96 Test accuracy: 0.9732\n",
            "24 Training accuracy: 0.98 Test accuracy: 0.9735\n",
            "25 Training accuracy: 0.98 Test accuracy: 0.9739\n",
            "26 Training accuracy: 1.0 Test accuracy: 0.9744\n",
            "27 Training accuracy: 0.98 Test accuracy: 0.9748\n",
            "28 Training accuracy: 1.0 Test accuracy: 0.9748\n",
            "29 Training accuracy: 0.96 Test accuracy: 0.9755\n",
            "30 Training accuracy: 1.0 Test accuracy: 0.9749\n",
            "31 Training accuracy: 1.0 Test accuracy: 0.9768\n",
            "32 Training accuracy: 1.0 Test accuracy: 0.9769\n",
            "33 Training accuracy: 1.0 Test accuracy: 0.9766\n",
            "34 Training accuracy: 1.0 Test accuracy: 0.9783\n",
            "35 Training accuracy: 1.0 Test accuracy: 0.9774\n",
            "36 Training accuracy: 1.0 Test accuracy: 0.9779\n",
            "37 Training accuracy: 0.98 Test accuracy: 0.9776\n",
            "38 Training accuracy: 1.0 Test accuracy: 0.9773\n",
            "39 Training accuracy: 1.0 Test accuracy: 0.979\n",
            "40 Training accuracy: 0.96 Test accuracy: 0.9789\n",
            "41 Training accuracy: 1.0 Test accuracy: 0.979\n",
            "42 Training accuracy: 1.0 Test accuracy: 0.9784\n",
            "43 Training accuracy: 1.0 Test accuracy: 0.9788\n",
            "44 Training accuracy: 0.98 Test accuracy: 0.9783\n",
            "45 Training accuracy: 0.98 Test accuracy: 0.9797\n",
            "46 Training accuracy: 1.0 Test accuracy: 0.9794\n",
            "47 Training accuracy: 1.0 Test accuracy: 0.9795\n",
            "48 Training accuracy: 1.0 Test accuracy: 0.9805\n",
            "49 Training accuracy: 1.0 Test accuracy: 0.9795\n"
          ],
          "name": "stdout"
        }
      ]
    },
    {
      "cell_type": "code",
      "metadata": {
        "id": "Hy_9LUb_dbrA",
        "colab_type": "code",
        "outputId": "4bed404c-7831-4e70-cdb7-2fe1f77ab0ef",
        "colab": {
          "base_uri": "https://localhost:8080/",
          "height": 34
        }
      },
      "source": [
        "with tf.Session() as sess:\n",
        "  saver.restore(sess, tf.train.latest_checkpoint('./'))\n",
        "  # first_image = mnist.test.next_batch(1)\n",
        "\n",
        "  # first_image = np.array(first_image, dtype='uint8')\n",
        "  # pixels = first_image.reshape((28, 28))\n",
        "  X_new_scaled = mnist.test.images # some new images (scaled from 0 to 1)\n",
        "  Z = logits.eval(feed_dict={X: X_new_scaled})\n",
        "  y_pred = np.argmax(Z, axis=1)"
      ],
      "execution_count": 0,
      "outputs": [
        {
          "output_type": "stream",
          "text": [
            "INFO:tensorflow:Restoring parameters from ./my_model.ckpt\n"
          ],
          "name": "stdout"
        }
      ]
    },
    {
      "cell_type": "code",
      "metadata": {
        "id": "UMurxpFmeUr0",
        "colab_type": "code",
        "outputId": "12408344-e8e5-4b8a-88f0-26babde996d3",
        "colab": {
          "base_uri": "https://localhost:8080/",
          "height": 34
        }
      },
      "source": [
        "y_pred[4]"
      ],
      "execution_count": 0,
      "outputs": [
        {
          "output_type": "execute_result",
          "data": {
            "text/plain": [
              "3"
            ]
          },
          "metadata": {
            "tags": []
          },
          "execution_count": 70
        }
      ]
    },
    {
      "cell_type": "code",
      "metadata": {
        "id": "bW5KAyRWe7Mk",
        "colab_type": "code",
        "outputId": "e2090481-ea4e-45ac-efe6-a953c2323cc2",
        "colab": {
          "base_uri": "https://localhost:8080/",
          "height": 282
        }
      },
      "source": [
        "import matplotlib.pyplot as plt\n",
        "import numpy as np\n",
        "amount = 20\n",
        "image = np.zeros((amount, 28, 28))\n",
        "image[0] = mnist.test.images[4].reshape(28, 28)\n",
        "plt.imshow(image[0], cmap='gray')"
      ],
      "execution_count": 0,
      "outputs": [
        {
          "output_type": "execute_result",
          "data": {
            "text/plain": [
              "<matplotlib.image.AxesImage at 0x7f16c1ac6710>"
            ]
          },
          "metadata": {
            "tags": []
          },
          "execution_count": 73
        },
        {
          "output_type": "display_data",
          "data": {
            "image/png": "[encoded data removed]",
            "text/plain": [
              "<Figure size 432x288 with 1 Axes>"
            ]
          },
          "metadata": {
            "tags": []
          }
        }
      ]
    },
    {
      "cell_type": "code",
      "metadata": {
        "id": "ogPXWqKQraur",
        "colab_type": "code",
        "colab": {}
      },
      "source": [
        ""
      ],
      "execution_count": 0,
      "outputs": []
    }
  ]
}