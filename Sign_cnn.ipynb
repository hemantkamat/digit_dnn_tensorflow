{
  "nbformat": 4,
  "nbformat_minor": 0,
  "metadata": {
    "kernelspec": {
      "name": "python3",
      "display_name": "Python 3"
    },
    "language_info": {
      "codemirror_mode": {
        "name": "ipython",
        "version": 3
      },
      "file_extension": ".py",
      "mimetype": "text/x-python",
      "name": "python",
      "nbconvert_exporter": "python",
      "pygments_lexer": "ipython3",
      "version": "3.6.9"
    },
    "colab": {
      "name": "Sign_cnn.ipynb",
      "provenance": []
    },
    "accelerator": "GPU"
  },
  "cells": [
    {
      "cell_type": "code",
      "metadata": {
        "id": "Fqd4Qb-lYtlN",
        "colab_type": "code",
        "colab": {}
      },
      "source": [
        "from __future__ import absolute_import, division, print_function, unicode_literals\n",
        "import math\n",
        "import numpy as np\n",
        "import h5py\n",
        "import matplotlib.pyplot as plt\n",
        "import scipy\n",
        "from PIL import Image\n",
        "from scipy import ndimage\n",
        "import tensorflow as tf\n",
        "from tensorflow.python.framework import ops\n",
        "from cnn_utils import *\n"
      ],
      "execution_count": 0,
      "outputs": []
    },
    {
      "cell_type": "code",
      "metadata": {
        "id": "NHcS-Q5RZQUE",
        "colab_type": "code",
        "outputId": "2827b9cc-b26a-4a80-94f8-fa8249429f1f",
        "colab": {
          "base_uri": "https://localhost:8080/",
          "height": 35
        }
      },
      "source": [
        "\n",
        "\n",
        "\n",
        "print(\"Num GPUs Available: \", len(tf.config.experimental.list_physical_devices('GPU')))\n"
      ],
      "execution_count": 41,
      "outputs": [
        {
          "output_type": "stream",
          "text": [
            "Num GPUs Available:  1\n"
          ],
          "name": "stdout"
        }
      ]
    },
    {
      "cell_type": "code",
      "metadata": {
        "id": "S02Dpqi8YtlZ",
        "colab_type": "code",
        "outputId": "14ad9434-cf66-44f0-8a4e-d3dbb2f6456c",
        "colab": {
          "base_uri": "https://localhost:8080/",
          "height": 35
        }
      },
      "source": [
        "tf.__version__\n"
      ],
      "execution_count": 42,
      "outputs": [
        {
          "output_type": "execute_result",
          "data": {
            "text/plain": [
              "'1.15.0'"
            ]
          },
          "metadata": {
            "tags": []
          },
          "execution_count": 42
        }
      ]
    },
    {
      "cell_type": "code",
      "metadata": {
        "id": "OcEn7AB_Ytll",
        "colab_type": "code",
        "colab": {}
      },
      "source": [
        "X_train_orig, Y_train_orig, X_test_orig, Y_test_orig, classes= load_dataset()"
      ],
      "execution_count": 0,
      "outputs": []
    },
    {
      "cell_type": "code",
      "metadata": {
        "id": "_LJ5ViGdYtlu",
        "colab_type": "code",
        "outputId": "74cdc773-2f16-4ebd-d667-ad6f8cc19f6a",
        "colab": {
          "base_uri": "https://localhost:8080/",
          "height": 286
        }
      },
      "source": [
        "index = 7\n",
        "plt.imshow(X_train_orig[index])\n",
        "print(\"y=\"+ str(np.squeeze(Y_train_orig[:,index])))"
      ],
      "execution_count": 44,
      "outputs": [
        {
          "output_type": "stream",
          "text": [
            "y=1\n"
          ],
          "name": "stdout"
        },
        {
          "output_type": "display_data",
          "data": {
            "image/png": "[encoded data removed]",
            "text/plain": [
              "<Figure size 432x288 with 1 Axes>"
            ]
          },
          "metadata": {
            "tags": []
          }
        }
      ]
    },
    {
      "cell_type": "code",
      "metadata": {
        "id": "a0pZMvw2Ytl2",
        "colab_type": "code",
        "outputId": "1edd7e39-abe7-4c91-c743-5a875b9e1157",
        "colab": {
          "base_uri": "https://localhost:8080/",
          "height": 127
        }
      },
      "source": [
        "X_train = X_train_orig/255\n",
        "X_test = X_test_orig/255\n",
        "Y_train = convert_to_one_hot(Y_train_orig,6).T\n",
        "Y_test = convert_to_one_hot(Y_test_orig,6).T\n",
        "print (\"number of training examples = \" + str(X_train.shape[0]))\n",
        "print (\"number of test examples = \" + str(X_test.shape[0]))\n",
        "print (\"X_train shape: \" + str(X_train.shape))\n",
        "print (\"Y_train shape: \" + str(Y_train.shape))\n",
        "print (\"X_test shape: \" + str(X_test.shape))\n",
        "print (\"Y_test shape: \" + str(Y_test.shape))\n",
        "conv_layers = {}"
      ],
      "execution_count": 45,
      "outputs": [
        {
          "output_type": "stream",
          "text": [
            "number of training examples = 1080\n",
            "number of test examples = 120\n",
            "X_train shape: (1080, 64, 64, 3)\n",
            "Y_train shape: (1080, 6)\n",
            "X_test shape: (120, 64, 64, 3)\n",
            "Y_test shape: (120, 6)\n"
          ],
          "name": "stdout"
        }
      ]
    },
    {
      "cell_type": "code",
      "metadata": {
        "id": "uJSuHFzKYtl9",
        "colab_type": "code",
        "colab": {}
      },
      "source": [
        "def create_placeholders(n_H0, n_W0, n_C0, n_y):\n",
        "    X = tf.placeholder(tf.float32, [None, n_H0, n_W0, n_C0])\n",
        "    Y = tf.placeholder(tf.float32, [None, n_y])\n",
        "    \n",
        "    return X, Y"
      ],
      "execution_count": 0,
      "outputs": []
    },
    {
      "cell_type": "code",
      "metadata": {
        "id": "eEhSDmIgYtmE",
        "colab_type": "code",
        "outputId": "ffdf4070-c6ab-4e25-a5ee-d61f334f7c94",
        "colab": {
          "base_uri": "https://localhost:8080/",
          "height": 54
        }
      },
      "source": [
        "X, Y = create_placeholders(64, 64, 3, 6)\n",
        "print (\"X = \" + str(X))\n",
        "print (\"Y = \" + str(Y))"
      ],
      "execution_count": 47,
      "outputs": [
        {
          "output_type": "stream",
          "text": [
            "X = Tensor(\"Placeholder_2:0\", shape=(?, 64, 64, 3), dtype=float32)\n",
            "Y = Tensor(\"Placeholder_3:0\", shape=(?, 6), dtype=float32)\n"
          ],
          "name": "stdout"
        }
      ]
    },
    {
      "cell_type": "code",
      "metadata": {
        "id": "CMf2p6HAYtmK",
        "colab_type": "code",
        "colab": {}
      },
      "source": [
        "def initialize_parameters():\n",
        "    tf.set_random_seed(1)\n",
        "    W1 = tf.get_variable(\"W1\",[4, 4, 3, 8],initializer=tf.contrib.layers.xavier_initializer(seed=0))\n",
        "    W2 = tf.get_variable(\"W2\",[2, 2, 8, 16],initializer=tf.contrib.layers.xavier_initializer(seed=0))\n",
        "    parameters = {\"W1\": W1,\n",
        "                  \"W2\": W2}\n",
        "    return parameters"
      ],
      "execution_count": 0,
      "outputs": []
    },
    {
      "cell_type": "code",
      "metadata": {
        "id": "PsXw4KvGYtmR",
        "colab_type": "code",
        "outputId": "1458af6b-9fbd-4b28-d7f6-9f76fd048894",
        "colab": {
          "base_uri": "https://localhost:8080/",
          "height": 109
        }
      },
      "source": [
        "tf.reset_default_graph()\n",
        "with tf.Session() as sess_test:\n",
        "    parameters = initialize_parameters()\n",
        "    init = tf.global_variables_initializer()\n",
        "    sess_test.run(init)\n",
        "    print(\"W1 =\"+ str(parameters[\"W1\"].eval()[1,1,1]))\n",
        "    print(\"W2 =\"+ str(parameters[\"W2\"].eval()[1,1,1]))\n",
        "    "
      ],
      "execution_count": 49,
      "outputs": [
        {
          "output_type": "stream",
          "text": [
            "W1 =[ 0.00131723  0.1417614  -0.04434952  0.09197326  0.14984085 -0.03514394\n",
            " -0.06847463  0.05245192]\n",
            "W2 =[-0.08566415  0.17750949  0.11974221  0.16773748 -0.0830943  -0.08058\n",
            " -0.00577033 -0.14643836  0.24162132 -0.05857408 -0.19055021  0.1345228\n",
            " -0.22779644 -0.1601823  -0.16117483 -0.10286498]\n"
          ],
          "name": "stdout"
        }
      ]
    },
    {
      "cell_type": "code",
      "metadata": {
        "id": "zaRPunCBYtmX",
        "colab_type": "code",
        "colab": {}
      },
      "source": [
        "def forward_propagation(X, parameters):\n",
        "    W1 = parameters['W1']\n",
        "    W2 = parameters['W2']\n",
        "    \n",
        "    Z1 = tf.nn.conv2d(X,W1,strides=[1,1,1,1],padding='SAME')\n",
        "    \n",
        "    A1 = tf.nn.relu(Z1)\n",
        "    \n",
        "    P1 = tf.nn.max_pool(A1,ksize=[1,8,8,1],strides=[1,8,8,1],padding='SAME')\n",
        "    \n",
        "    Z2 = tf.nn.conv2d(P1,W2,strides=[1,1,1,1],padding='SAME')\n",
        "    \n",
        "    A2 = tf.nn.relu(Z2)\n",
        "    \n",
        "    P2 = tf.nn.max_pool(A2,ksize=[1,4,4,1],strides=[1,4,4,1],padding='SAME')\n",
        "    \n",
        "    P2 = tf.contrib.layers.flatten(P2)\n",
        "    \n",
        "    Z3 = tf.contrib.layers.fully_connected(P2,6,activation_fn=None)\n",
        "    \n",
        "    return Z3"
      ],
      "execution_count": 0,
      "outputs": []
    },
    {
      "cell_type": "code",
      "metadata": {
        "id": "hP_UxWdkYtmd",
        "colab_type": "code",
        "outputId": "7cff0642-e3f0-40a6-f8fa-f960e91bc9ac",
        "colab": {
          "base_uri": "https://localhost:8080/",
          "height": 54
        }
      },
      "source": [
        "tf.reset_default_graph()\n",
        "\n",
        "with tf.Session() as sess:\n",
        "    np.random.seed(1)\n",
        "    X, Y = create_placeholders(64,64,3,6)\n",
        "    parameters = initialize_parameters()\n",
        "    Z3 = forward_propagation(X, parameters)\n",
        "    init = tf.global_variables_initializer()\n",
        "    sess.run(init)\n",
        "    a = sess.run(Z3, {X: np.random.randn(2,64,64,3),Y:np.random.randn(2,6)})\n",
        "    print(\"Z3 = \"+str(a))"
      ],
      "execution_count": 51,
      "outputs": [
        {
          "output_type": "stream",
          "text": [
            "Z3 = [[ 1.4416982  -0.24909675  5.4504995  -0.26189643 -0.2066989   1.3654672 ]\n",
            " [ 1.4070848  -0.02573231  5.0892797  -0.48669893 -0.40940714  1.2624854 ]]\n"
          ],
          "name": "stdout"
        }
      ]
    },
    {
      "cell_type": "code",
      "metadata": {
        "id": "0vGrp87SYtml",
        "colab_type": "code",
        "colab": {}
      },
      "source": [
        "def compute_cost(Z3, Y):\n",
        "    cost = tf.reduce_mean(tf.nn.softmax_cross_entropy_with_logits_v2(logits=Z3, labels=Y))\n",
        "    return cost"
      ],
      "execution_count": 0,
      "outputs": []
    },
    {
      "cell_type": "code",
      "metadata": {
        "id": "JSVaKQfkYtmq",
        "colab_type": "code",
        "outputId": "799794f7-b249-44de-932b-cbe65a2c29ca",
        "colab": {
          "base_uri": "https://localhost:8080/",
          "height": 35
        }
      },
      "source": [
        "tf.reset_default_graph()\n",
        "with tf.Session() as sess:\n",
        "    np.random.seed(1)\n",
        "    X, Y = create_placeholders(64, 64, 3, 6)\n",
        "    parameters = initialize_parameters()\n",
        "    Z3 = forward_propagation(X, parameters)\n",
        "    cost = compute_cost(Z3, Y)\n",
        "    init = tf.global_variables_initializer()\n",
        "    sess.run(init)\n",
        "    a = sess.run(cost, {X: np.random.randn(4,64,64,3), Y: np.random.randn(4,6)})\n",
        "    print(\"cost = \" + str(a))"
      ],
      "execution_count": 53,
      "outputs": [
        {
          "output_type": "stream",
          "text": [
            "cost = 4.6648703\n"
          ],
          "name": "stdout"
        }
      ]
    },
    {
      "cell_type": "code",
      "metadata": {
        "id": "c-E0zPyVYtmw",
        "colab_type": "code",
        "colab": {}
      },
      "source": [
        "def model(X_train, Y_train, X_test, Y_test, learning_rate=0.0035, num_epochs=300, minibatch_size=64, print_cost=True):\n",
        "    ops.reset_default_graph()\n",
        "    tf.set_random_seed(1)\n",
        "    seed = 3\n",
        "    (m, n_H0, n_W0, n_C0) = X_train.shape \n",
        "    n_y = Y_train.shape[1]                            \n",
        "    costs = []\n",
        "    X, Y = create_placeholders(n_H0, n_W0, n_C0, n_y)\n",
        "    parameters = initialize_parameters()\n",
        "    Z3 = forward_propagation(X, parameters)\n",
        "    cost = compute_cost(Z3,Y)\n",
        "    optimizer = tf.train.AdamOptimizer(learning_rate=learning_rate).minimize(cost)\n",
        "    init = tf.global_variables_initializer()\n",
        "    with tf.Session() as sess:\n",
        "        sess.run(init)\n",
        "        for epoch in range(num_epochs):\n",
        "            minibatch_cost = 0\n",
        "            num_minibatches = int(m/minibatch_size)\n",
        "            seed = seed + 1\n",
        "            minibatches = random_mini_batches(X_train, Y_train, minibatch_size, seed)\n",
        "            for minibatch in minibatches:\n",
        "                (minibatch_X, minibatch_Y) = minibatch\n",
        "                _ , temp_cost = sess.run([optimizer, cost], feed_dict={X:minibatch_X, Y:minibatch_Y})\n",
        "                \n",
        "                minibatch_cost += temp_cost / num_minibatches\n",
        "                if print_cost == True and epoch % 100 == 0:\n",
        "                    print (\"Cost after epoch %i: %f\" % (epoch, minibatch_cost))\n",
        "                if print_cost == True and epoch % 1 == 0:\n",
        "                    costs.append(minibatch_cost)\n",
        "        plt.plot(np.squeeze(costs))\n",
        "        plt.ylabel('cost')\n",
        "        plt.xlabel('iterations (per tens)')\n",
        "        plt.title(\"Learning rate =\" + str(learning_rate))\n",
        "        plt.show()\n",
        "        predict_op = tf.argmax(Z3, 1)\n",
        "        correct_prediction = tf.equal(predict_op, tf.argmax(Y, 1))\n",
        "        \n",
        "        # Calculate accuracy on the test set\n",
        "        accuracy = tf.reduce_mean(tf.cast(correct_prediction, \"float\"))\n",
        "        print(accuracy)\n",
        "        train_accuracy = accuracy.eval({X: X_train, Y: Y_train})\n",
        "        test_accuracy = accuracy.eval({X: X_test, Y: Y_test})\n",
        "        print(\"Train Accuracy:\", train_accuracy)\n",
        "        print(\"Test Accuracy:\", test_accuracy)\n",
        "                \n",
        "        return train_accuracy, test_accuracy, parameters"
      ],
      "execution_count": 0,
      "outputs": []
    },
    {
      "cell_type": "code",
      "metadata": {
        "scrolled": true,
        "id": "cl__qoMoYtm0",
        "colab_type": "code",
        "outputId": "07e9220e-e5a0-48e7-c3c6-d9bbcf41b1b9",
        "colab": {
          "base_uri": "https://localhost:8080/",
          "height": 1000
        }
      },
      "source": [
        "_, _, parameters = model(X_train, Y_train, X_test, Y_test)"
      ],
      "execution_count": 67,
      "outputs": [
        {
          "output_type": "stream",
          "text": [
            "Cost after epoch 0: 0.124256\n",
            "Cost after epoch 0: 0.238738\n",
            "Cost after epoch 0: 0.352235\n",
            "Cost after epoch 0: 0.466212\n",
            "Cost after epoch 0: 0.580178\n",
            "Cost after epoch 0: 0.693192\n",
            "Cost after epoch 0: 0.806933\n",
            "Cost after epoch 0: 0.919371\n",
            "Cost after epoch 0: 1.031572\n",
            "Cost after epoch 0: 1.144908\n",
            "Cost after epoch 0: 1.258133\n",
            "Cost after epoch 0: 1.370989\n",
            "Cost after epoch 0: 1.483116\n",
            "Cost after epoch 0: 1.596672\n",
            "Cost after epoch 0: 1.708547\n",
            "Cost after epoch 0: 1.821216\n",
            "Cost after epoch 0: 1.932830\n",
            "Cost after epoch 100: 0.010180\n",
            "Cost after epoch 100: 0.015852\n",
            "Cost after epoch 100: 0.026176\n",
            "Cost after epoch 100: 0.038219\n",
            "Cost after epoch 100: 0.048565\n",
            "Cost after epoch 100: 0.062212\n",
            "Cost after epoch 100: 0.077414\n",
            "Cost after epoch 100: 0.094057\n",
            "Cost after epoch 100: 0.110556\n",
            "Cost after epoch 100: 0.122656\n",
            "Cost after epoch 100: 0.143502\n",
            "Cost after epoch 100: 0.158204\n",
            "Cost after epoch 100: 0.174373\n",
            "Cost after epoch 100: 0.196556\n",
            "Cost after epoch 100: 0.205324\n",
            "Cost after epoch 100: 0.219429\n",
            "Cost after epoch 100: 0.245969\n",
            "Cost after epoch 200: 0.003458\n",
            "Cost after epoch 200: 0.008107\n",
            "Cost after epoch 200: 0.012511\n",
            "Cost after epoch 200: 0.015921\n",
            "Cost after epoch 200: 0.017423\n",
            "Cost after epoch 200: 0.021661\n",
            "Cost after epoch 200: 0.026722\n",
            "Cost after epoch 200: 0.031164\n",
            "Cost after epoch 200: 0.042465\n",
            "Cost after epoch 200: 0.047251\n",
            "Cost after epoch 200: 0.053511\n",
            "Cost after epoch 200: 0.059230\n",
            "Cost after epoch 200: 0.065888\n",
            "Cost after epoch 200: 0.069360\n",
            "Cost after epoch 200: 0.073888\n",
            "Cost after epoch 200: 0.078799\n",
            "Cost after epoch 200: 0.084507\n"
          ],
          "name": "stdout"
        },
        {
          "output_type": "display_data",
          "data": {
            "image/png": "[encoded data removed]",
            "text/plain": [
              "<Figure size 432x288 with 1 Axes>"
            ]
          },
          "metadata": {
            "tags": []
          }
        },
        {
          "output_type": "stream",
          "text": [
            "Tensor(\"Mean_1:0\", shape=(), dtype=float32)\n",
            "Train Accuracy: 0.9898148\n",
            "Test Accuracy: 0.9\n"
          ],
          "name": "stdout"
        }
      ]
    },
    {
      "cell_type": "code",
      "metadata": {
        "id": "CTP7DA2MYtm7",
        "colab_type": "code",
        "colab": {}
      },
      "source": [
        ""
      ],
      "execution_count": 0,
      "outputs": []
    }
  ]
}